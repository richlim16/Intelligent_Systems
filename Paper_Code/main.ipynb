{
 "cells": [
  {
   "cell_type": "markdown",
   "metadata": {},
   "source": [
    "![model](./images/model.png)"
   ]
  },
  {
   "cell_type": "markdown",
   "metadata": {},
   "source": [
    "### Create a classes for modules"
   ]
  },
  {
   "cell_type": "code",
   "execution_count": null,
   "metadata": {},
   "outputs": [],
   "source": [
    "#class for the convolution module\n",
    "class conv_block(nn.Module):\n",
    "    def __init__(self, in_channels, out_channels, **kwargs):\n",
    "        super(conv_block, self).__init__()\n",
    "        self.relu = nn.Relu() #relu\n",
    "        self.conv = nn.Conv2d(in_channels, out_channels, **kwargs) # convolution\n",
    "        self.batchnorm = nn.BatchNorm2d(out_channels) # batch normalization\n",
    "\n",
    "    def forward(self, x):\n",
    "        x = self.conv(x)\n",
    "        x = self.batchnorm(x)\n",
    "        x = self.relu(x)\n",
    "        return x\n",
    "    \n",
    "#class for the inception block\n",
    "class inception_block(nn.Module):\n",
    "    def __init__(self, in_channels, out_ch1, out_ch3):\n",
    "        super(inception_block, self).__init__()\n",
    "        #first conv module; padding should be 'same'\n",
    "        self.ch1 = conv_block(in_channels=in_channels, out_channels=out_ch1, kernel_size=(3,3), stride=(1,1), padding='same')\n",
    "        #second conv module; padding should be 'same' to be able to concatenate them together\n",
    "        self.ch3 = conv_block(in_channels=in_channels, out_channels=out_ch3, kernel_size=(3,3), stride=(1,1), padding='same') \n",
    "\n",
    "    def forward(self, x):\n",
    "        #concat the outputs of the convolutions / aka Merge\n",
    "        return torch.cat([self.ch1(x), self.ch3(x)], 1)\n",
    "    \n",
    "# createclass for the downsample module\n",
    "class downsample_block(nn.Module):\n",
    "    def __init__(self, in_channels, conv_out):\n",
    "        super(downsample_block, self).__init__()\n",
    "        #conv module\n",
    "        self.convblock = conv_block(in_channels, conv_out, kernel_size=(3,3), stride=(2,2))\n",
    "        # max pooling\n",
    "        self.maxpool = nn.MaxPool2d(kernel_size=(3,3), stride=(2,2))\n",
    "\n",
    "    def forward(self, x):\n",
    "        return torch.cat([self.convblock(x), self.maxpool(x)], 1)\n",
    "    "
   ]
  },
  {
   "cell_type": "markdown",
   "metadata": {},
   "source": [
    "### putting the model together "
   ]
  },
  {
   "cell_type": "code",
   "execution_count": null,
   "metadata": {},
   "outputs": [],
   "source": [
    "class Inception(nn.Module):\n",
    "    def __init__(self, in_channels=3, num_classes=10, dropout_prob=0):\n",
    "        super(Inception, self).__init__()\n",
    "        self.conv1 = conv_block(in_channels=3, out_channels=96, kernel_size=(3,3), stride=(1,1))\n",
    "\n",
    "        self.inception1 = inception_block(96, 32, 32) # first part comes from the output of the previous layer\n",
    "        self.inception2 = inception_block(64, 32, 48) # example 32 + 32 = 64\n",
    "        self.downsample1 = downsample_block(80, 80) # 32 + 48 = 80\n",
    "\n",
    "        self.inception3 = inception_block(160, 112, 48)\n",
    "        self.inception4 = inception_block(160, 96, 64)\n",
    "        self.inception5 = inception_block(160, 80, 80)\n",
    "        self.inception6 = inception_block(160, 48, 96)\n",
    "        self.downsample2 = downsample_block(114, 96)\n",
    "\n",
    "        self.inception7 = inception_block(240, 176, 160)\n",
    "        self.inception8 = inception_block(336, 176, 160)\n",
    "        self.avgpool = nn.AvgPool2d(kernel_size=(7, 7), padding=(1,1))\n",
    "        self.dropout = nn.Dropout(p = dropout_prob)\n",
    "        self.fc = nn.Linear(336, 10)\n",
    "\n",
    "    def forward(self, x):\n",
    "        x = self.conv1(x)\n",
    "        x = self.inception1(x)\n",
    "        x = self.inception2(x)\n",
    "        x = self.downsample1(x)\n",
    "\n",
    "        x = self.inception3(x)\n",
    "        x = self.inception4(x)\n",
    "        x = self.inception5(x)\n",
    "        x = self.inception6(x)\n",
    "        x = self.downsample2(x)\n",
    "\n",
    "        x = self.inception7(x)\n",
    "        x = self.inception8(x)\n",
    "        x = self.avgpool(x)\n",
    "\n",
    "        x = x.reshape(x.shape[0], -1)\n",
    "        x = self.dropout(x)\n",
    "        x = self.fc(x)\n",
    "        return x\n",
    "\n"
   ]
  },
  {
   "cell_type": "markdown",
   "metadata": {},
   "source": [
    "### Model Training\n",
    "Create the Model then set the parameters"
   ]
  },
  {
   "cell_type": "code",
   "execution_count": null,
   "metadata": {},
   "outputs": [],
   "source": [
    "# creating the model\n",
    "model = Inception(in_channels=3, num_classes=10, dropout_prob=0).to(device) #change val for dropout prob\n",
    "\n",
    "loss_function = nn.CrossEntropyLoss() # because of multi classification\n",
    "optimizer = optim.SGD(model.parameters(), lr=lr)\n",
    "scheduler = optim.lr_scheduler.LinearLR(optimizer) # scheduler controls the flow of information in batches"
   ]
  },
  {
   "cell_type": "markdown",
   "metadata": {},
   "source": [
    "reate 2 functions that obtain the metric on the train set and the test set\n",
    "\n",
    "### Train"
   ]
  },
  {
   "cell_type": "code",
   "execution_count": null,
   "metadata": {},
   "outputs": [],
   "source": [
    "def train(epoch):\n",
    "    model.train() # start the training process\n",
    "    curr_loss_train = 0 # initialize values\n",
    "    correct_train = 0\n",
    "    total_train = 0\n",
    "\n",
    "    for ind, (data_train, true_labels_train) in enumerate(train_loader):\n",
    "        data_train = data_train.to(device=device)\n",
    "        true_labels_train = true_labels_train.to(device=device)\n",
    "\n",
    "        out_train = model(data_train) # apply model to train data\n",
    "        loss_train = loss_function(out_train, true_labels_train) # get loss\n",
    "\n",
    "        optimizer.zer_grad()\n",
    "        loss_train.backward()\n",
    "        optimizer.step()\n",
    "\n",
    "        curr_loss_train += loss_train.item()\n",
    "        ix, predicted_train = out_train.max(1)\n",
    "        correct_train += predicted_train.eq(true_labels_train).sum().item()\n",
    "        total_train += true_labels_train.size(0)\n",
    "\n",
    "        train_loss = curr_loss_train/len(train_loader) # get the loss\n",
    "        acc_train_val = (correct_train/total_train)*100 # get the accuracy\n",
    "\n",
    "        train_acc.append(acc_train_val)\n",
    "        train_all_loss.append(train_loss)"
   ]
  },
  {
   "cell_type": "markdown",
   "metadata": {},
   "source": [
    "### Test"
   ]
  },
  {
   "cell_type": "code",
   "execution_count": null,
   "metadata": {},
   "outputs": [],
   "source": [
    "def test(epoch):\n",
    "    model.eval() # start the testing process / eval mode\n",
    "    curr_loss_test = 0 # initialize values\n",
    "    correct_test = 0\n",
    "    total_test = 0\n",
    "\n",
    "    num_class=10\n",
    "    confusion_matrix = torch.zeros(num_class, num_class) # get the confusion matrix of the test set\n",
    "    with torch.no_grad():\n",
    "        for data_test, true_labels_test in test_loader:\n",
    "\n",
    "            data_test = data_test.to(device=device)\n",
    "            true_labels_test = true_labels_test.to(device=device)\n",
    "\n",
    "            out_test = model(data_test) # apply model to train data\n",
    "            loss_test = loss_function(out_test, true_labels_test) # get loss\n",
    "\n",
    "            curr_loss_test += loss_test.item()\n",
    "            ix, predicted_test = out_test.max(1)\n",
    "            correct_test += predicted_test.eq(true_labels_test).sum().item()\n",
    "            total_test += true_labels_test.size(0)\n",
    "\n",
    "            for tr, pr in zip(true_labels_test.view(-1), predicted_test.view(-1)):\n",
    "                confusion_matrix[tr.long(), pr.long()] += 1\n",
    "\n",
    "            test_loss = curr_loss_test/len(test_loader) # get the loss\n",
    "            acc_test_val = (correct_test/total_test)*100 # get the accuracy\n",
    "\n",
    "            test_acc.append(acc_test_val)\n",
    "            test_all_loss.append(test_loss)\n",
    "            con_mats.append(confusion_matrix)"
   ]
  }
 ],
 "metadata": {
  "language_info": {
   "name": "python"
  }
 },
 "nbformat": 4,
 "nbformat_minor": 2
}
