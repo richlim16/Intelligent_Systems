{
 "cells": [
  {
   "cell_type": "markdown",
   "metadata": {},
   "source": [
    "# A. Nonlinear Transformation"
   ]
  },
  {
   "cell_type": "code",
   "execution_count": 17,
   "metadata": {},
   "outputs": [],
   "source": [
    "import numpy as np\n",
    "import matplotlib.pyplot as plt\n",
    "from sklearn.linear_model import LinearRegression\n",
    "from sklearn.model_selection import train_test_split\n",
    "from scipy.stats import linregress\n",
    "from sklearn.metrics import r2_score"
   ]
  },
  {
   "cell_type": "code",
   "execution_count": 18,
   "metadata": {},
   "outputs": [],
   "source": [
    "#getting china_gdp values\n",
    "import csv\n",
    "\n",
    "file_path = \"./1_china_gdp.csv\"\n",
    "values = []\n",
    "\n",
    "with open(file_path, 'r') as file:\n",
    "    reader = csv.reader(file)\n",
    "\n",
    "    next(reader)\n",
    "    for row in reader:\n",
    "        values.append(row)\n"
   ]
  },
  {
   "cell_type": "code",
   "execution_count": null,
   "metadata": {},
   "outputs": [],
   "source": [
    "values"
   ]
  },
  {
   "cell_type": "code",
   "execution_count": 22,
   "metadata": {},
   "outputs": [
    {
     "data": {
      "text/plain": [
       "['59184116488.9977',\n",
       " '49557050182.9631',\n",
       " '46685178504.3274',\n",
       " '50097303271.0232',\n",
       " '59062254890.1871',\n",
       " '69709153115.3147',\n",
       " '75879434776.1831',\n",
       " '72057028559.6741',\n",
       " '69993497892.3132',\n",
       " '78718820477.9257',\n",
       " '91506211306.3745',\n",
       " '98562023844.1813',\n",
       " '112159813640.376',\n",
       " '136769878359.668',\n",
       " '142254742077.706',\n",
       " '161162492226.686',\n",
       " '151627687364.405',\n",
       " '172349014326.931',\n",
       " '148382111520.192',\n",
       " '176856525405.729',\n",
       " '189649992463.987',\n",
       " '194369049090.197',\n",
       " '203549627211.606',\n",
       " '228950200773.115',\n",
       " '258082147252.256',\n",
       " '307479585852.339',\n",
       " '298805792971.544',\n",
       " '271349773463.863',\n",
       " '310722213686.031',\n",
       " '345957485871.286',\n",
       " '358973230048.399',\n",
       " '381454703832.753',\n",
       " '424934065934.066',\n",
       " '442874596387.119',\n",
       " '562261129868.774',\n",
       " '732032045217.766',\n",
       " '860844098049.121',\n",
       " '958159424835.34',\n",
       " '1025276902078.73',\n",
       " '1089447108705.89',\n",
       " '1205260678391.96',\n",
       " '1332234719889.82',\n",
       " '1461906487857.92',\n",
       " '1649928718134.59',\n",
       " '1941745602165.09',\n",
       " '2268598904116.28',\n",
       " '2729784031906.09',\n",
       " '3523094314820.9',\n",
       " '4558431073438.2',\n",
       " '5059419738267.41',\n",
       " '6039658508485.59',\n",
       " '7492432097810.11',\n",
       " '8461623162714.07',\n",
       " '9490602600148.49',\n",
       " '10354831729340.4']"
      ]
     },
     "execution_count": 22,
     "metadata": {},
     "output_type": "execute_result"
    }
   ],
   "source": [
    "x = []\n",
    "y = []\n",
    "\n",
    "for v in values:\n",
    "    x.append(v[1])\n",
    "    y.append(v[0])"
   ]
  },
  {
   "cell_type": "code",
   "execution_count": 23,
   "metadata": {},
   "outputs": [
    {
     "ename": "UFuncTypeError",
     "evalue": "ufunc 'maximum' did not contain a loop with signature matching types (dtype('<U16'), dtype('<U16')) -> None",
     "output_type": "error",
     "traceback": [
      "\u001b[1;31m---------------------------------------------------------------------------\u001b[0m",
      "\u001b[1;31mUFuncTypeError\u001b[0m                            Traceback (most recent call last)",
      "\u001b[1;32md:\\richl\\Documents\\School\\4th Year\\2nd semester\\IS\\Homework\\4103-reporting-exercises\\lim.ipynb Cell 6\u001b[0m line \u001b[0;36m1\n\u001b[1;32m----> <a href='vscode-notebook-cell:/d%3A/richl/Documents/School/4th%20Year/2nd%20semester/IS/Homework/4103-reporting-exercises/lim.ipynb#X16sZmlsZQ%3D%3D?line=0'>1</a>\u001b[0m slope, intercept, rvalue, pvalue, stderr \u001b[39m=\u001b[39m linregress(x, y)\n",
      "File \u001b[1;32md:\\richl\\Documents\\Python-Environments\\IS_ENV\\Lib\\site-packages\\scipy\\stats\\_stats_mstats_common.py:156\u001b[0m, in \u001b[0;36mlinregress\u001b[1;34m(x, y, alternative)\u001b[0m\n\u001b[0;32m    153\u001b[0m \u001b[39mif\u001b[39;00m x\u001b[39m.\u001b[39msize \u001b[39m==\u001b[39m \u001b[39m0\u001b[39m \u001b[39mor\u001b[39;00m y\u001b[39m.\u001b[39msize \u001b[39m==\u001b[39m \u001b[39m0\u001b[39m:\n\u001b[0;32m    154\u001b[0m     \u001b[39mraise\u001b[39;00m \u001b[39mValueError\u001b[39;00m(\u001b[39m\"\u001b[39m\u001b[39mInputs must not be empty.\u001b[39m\u001b[39m\"\u001b[39m)\n\u001b[1;32m--> 156\u001b[0m \u001b[39mif\u001b[39;00m np\u001b[39m.\u001b[39;49mamax(x) \u001b[39m==\u001b[39m np\u001b[39m.\u001b[39mamin(x) \u001b[39mand\u001b[39;00m \u001b[39mlen\u001b[39m(x) \u001b[39m>\u001b[39m \u001b[39m1\u001b[39m:\n\u001b[0;32m    157\u001b[0m     \u001b[39mraise\u001b[39;00m \u001b[39mValueError\u001b[39;00m(\u001b[39m\"\u001b[39m\u001b[39mCannot calculate a linear regression \u001b[39m\u001b[39m\"\u001b[39m\n\u001b[0;32m    158\u001b[0m                      \u001b[39m\"\u001b[39m\u001b[39mif all x values are identical\u001b[39m\u001b[39m\"\u001b[39m)\n\u001b[0;32m    160\u001b[0m n \u001b[39m=\u001b[39m \u001b[39mlen\u001b[39m(x)\n",
      "File \u001b[1;32m<__array_function__ internals>:200\u001b[0m, in \u001b[0;36mamax\u001b[1;34m(*args, **kwargs)\u001b[0m\n",
      "File \u001b[1;32md:\\richl\\Documents\\Python-Environments\\IS_ENV\\Lib\\site-packages\\numpy\\core\\fromnumeric.py:2820\u001b[0m, in \u001b[0;36mamax\u001b[1;34m(a, axis, out, keepdims, initial, where)\u001b[0m\n\u001b[0;32m   2703\u001b[0m \u001b[39m@array_function_dispatch\u001b[39m(_amax_dispatcher)\n\u001b[0;32m   2704\u001b[0m \u001b[39mdef\u001b[39;00m \u001b[39mamax\u001b[39m(a, axis\u001b[39m=\u001b[39m\u001b[39mNone\u001b[39;00m, out\u001b[39m=\u001b[39m\u001b[39mNone\u001b[39;00m, keepdims\u001b[39m=\u001b[39mnp\u001b[39m.\u001b[39m_NoValue, initial\u001b[39m=\u001b[39mnp\u001b[39m.\u001b[39m_NoValue,\n\u001b[0;32m   2705\u001b[0m          where\u001b[39m=\u001b[39mnp\u001b[39m.\u001b[39m_NoValue):\n\u001b[0;32m   2706\u001b[0m \u001b[39m    \u001b[39m\u001b[39m\"\"\"\u001b[39;00m\n\u001b[0;32m   2707\u001b[0m \u001b[39m    Return the maximum of an array or maximum along an axis.\u001b[39;00m\n\u001b[0;32m   2708\u001b[0m \n\u001b[1;32m   (...)\u001b[0m\n\u001b[0;32m   2818\u001b[0m \u001b[39m    5\u001b[39;00m\n\u001b[0;32m   2819\u001b[0m \u001b[39m    \"\"\"\u001b[39;00m\n\u001b[1;32m-> 2820\u001b[0m     \u001b[39mreturn\u001b[39;00m _wrapreduction(a, np\u001b[39m.\u001b[39;49mmaximum, \u001b[39m'\u001b[39;49m\u001b[39mmax\u001b[39;49m\u001b[39m'\u001b[39;49m, axis, \u001b[39mNone\u001b[39;49;00m, out,\n\u001b[0;32m   2821\u001b[0m                           keepdims\u001b[39m=\u001b[39;49mkeepdims, initial\u001b[39m=\u001b[39;49minitial, where\u001b[39m=\u001b[39;49mwhere)\n",
      "File \u001b[1;32md:\\richl\\Documents\\Python-Environments\\IS_ENV\\Lib\\site-packages\\numpy\\core\\fromnumeric.py:86\u001b[0m, in \u001b[0;36m_wrapreduction\u001b[1;34m(obj, ufunc, method, axis, dtype, out, **kwargs)\u001b[0m\n\u001b[0;32m     83\u001b[0m         \u001b[39melse\u001b[39;00m:\n\u001b[0;32m     84\u001b[0m             \u001b[39mreturn\u001b[39;00m reduction(axis\u001b[39m=\u001b[39maxis, out\u001b[39m=\u001b[39mout, \u001b[39m*\u001b[39m\u001b[39m*\u001b[39mpasskwargs)\n\u001b[1;32m---> 86\u001b[0m \u001b[39mreturn\u001b[39;00m ufunc\u001b[39m.\u001b[39;49mreduce(obj, axis, dtype, out, \u001b[39m*\u001b[39;49m\u001b[39m*\u001b[39;49mpasskwargs)\n",
      "\u001b[1;31mUFuncTypeError\u001b[0m: ufunc 'maximum' did not contain a loop with signature matching types (dtype('<U16'), dtype('<U16')) -> None"
     ]
    }
   ],
   "source": [
    "slope, intercept, rvalue, pvalue, stderr = linregress(x, y)"
   ]
  },
  {
   "cell_type": "markdown",
   "metadata": {},
   "source": [
    "# B. Categorical Encoding"
   ]
  },
  {
   "cell_type": "code",
   "execution_count": null,
   "metadata": {},
   "outputs": [],
   "source": []
  },
  {
   "cell_type": "markdown",
   "metadata": {},
   "source": [
    "# C. Discretization"
   ]
  },
  {
   "cell_type": "code",
   "execution_count": null,
   "metadata": {},
   "outputs": [],
   "source": []
  }
 ],
 "metadata": {
  "kernelspec": {
   "display_name": "IS_ENV",
   "language": "python",
   "name": "python3"
  },
  "language_info": {
   "codemirror_mode": {
    "name": "ipython",
    "version": 3
   },
   "file_extension": ".py",
   "mimetype": "text/x-python",
   "name": "python",
   "nbconvert_exporter": "python",
   "pygments_lexer": "ipython3",
   "version": "3.11.4"
  },
  "orig_nbformat": 4
 },
 "nbformat": 4,
 "nbformat_minor": 2
}
